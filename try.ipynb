{
 "cells": [
  {
   "cell_type": "code",
   "execution_count": 308,
   "metadata": {},
   "outputs": [],
   "source": [
    "import requests\n",
    "import pandas as pd\n",
    "from matplotlib import pyplot as plt\n",
    "import numpy as np"
   ]
  },
  {
   "cell_type": "code",
   "execution_count": 98,
   "metadata": {},
   "outputs": [],
   "source": [
    "'''\n",
    "1. Launch the website: https://www.solrenview.com/SolrenView/mainFr.php?siteId=6073\n",
    "2. Trigger the event by clicking \"Export Data\"\n",
    "3. Developer tools -> Network -> Fetch/XHR\n",
    "'''\n",
    "#request_URL = 'https://www.solrenview.com/srvp/FSC/SRV/getAnalyticsInfo.php?siteId=6073&queryNo=4&startIntervalTs=2025-10-22%2004:00:00&endIntervalTs=2025-10-22%2005:00:00&endDuration=2025-10-23%2000:00:00&dataInterval=3600&deviceindices=0^35346^Inverter%201%20%20[1013821839182%20PVI%2060TL]^3;0^35347^Inverter%202%20%20[1013821839191%20PVI%2060TL]^3&parList=ecount&deviceType=0^35346^Inverter%201%20[1013821839182%20PVI%2060TL]^3;0^35347^Inverter%202%20[1013821839191%20PVI%2060TL]^3&hasRg=0&maxLimit=360000&gauge=0+&dataIntervalStr=Minute'\n",
    "request_URL = 'https://www.solrenview.com/srvp/FSC/SRV/getAnalyticsInfo.php?siteId=6073&queryNo=4&startIntervalTs=2025-10-24%2004:00:00&endIntervalTs=2025-10-24%2004:05:00&endDuration=2025-10-25%2000:00:00&dataInterval=300&deviceindices=0^35346^Inverter%201%20%20[1013821839182%20PVI%2060TL]^3;0^35347^Inverter%202%20%20[1013821839191%20PVI%2060TL]^3&parList=vdc;vdc2;vdc3;vdc4;idc;idc2;idc3;idc4&deviceType=0^35346^Inverter%201%20[1013821839182%20PVI%2060TL]^3;0^35347^Inverter%202%20[1013821839191%20PVI%2060TL]^3&hasRg=0&maxLimit=360000&gauge=0+&dataIntervalStr=Minute'"
   ]
  },
  {
   "cell_type": "code",
   "execution_count": 27,
   "metadata": {},
   "outputs": [],
   "source": [
    "'''\n",
    "Developer tools -> Network -> Fetch/XHR -> Headers -> Request Headers\n",
    "'''\n",
    "headers = {\n",
    " 'Cookie': 'siteId=6073; PHPSESSID=0ooqna8h758bs6c4jl9gl6reu7; _ga=GA1.2.792316693.1761186174; _gid=GA1.2.2038752395.1761186174; _gat=1; _ga_L4S8LG26JM=GS2.2.s1761186174$o1$g1$t1761186879$j60$l0$h0',\n",
    " 'Referer': 'https://www.solrenview.com/srvp/FSC/SRV/analyticsT.php?siteId=6073&CurrentTab=3',\n",
    " 'User-Agent': 'Mozilla/5.0 (Linux; Android 6.0; Nexus 5 Build/MRA58N) AppleWebKit/537.36 (KHTML, like Gecko) Chrome/141.0.0.0 Mobile Safari/537.36'\n",
    "}"
   ]
  },
  {
   "cell_type": "code",
   "execution_count": null,
   "metadata": {},
   "outputs": [],
   "source": [
    "def get_query_params(url):\n",
    "  params = url.split('?')[1] # start of query string\n",
    "  queries = params.split('&') # query string separator\n",
    "  \n",
    "  params = {}\n",
    "  for item in queries:\n",
    "    name, val = item.split(\"=\")\n",
    "    params[name] = val\n",
    "  return params"
   ]
  },
  {
   "cell_type": "code",
   "execution_count": 179,
   "metadata": {},
   "outputs": [],
   "source": [
    "start_date = '2025-10-10'\n",
    "end_date = '2025-10-11'\n",
    "\n",
    "url = 'https://www.solrenview.com/srvp/FSC/SRV/getAnalyticsInfo.php'\n",
    "params12 = {\n",
    " 'siteId': '6073',\n",
    " 'queryNo': '4',\n",
    " 'startIntervalTs': f'{start_date} 04:00:00',\n",
    " 'endIntervalTs': f'{start_date} 04:15:00', # change end date-time according to desired data interval\n",
    " 'endDuration': f'{end_date} 00:00:00',\n",
    " 'dataInterval': '900', # can be changed\n",
    " 'deviceindices': '0^35346^Inverter 1  [1013821839182 PVI 60TL]^3;0^35347^Inverter 2  [1013821839191 PVI 60TL]^3',\n",
    " 'parList': 'vdc;vdc2;vdc3;vdc4;idc;idc2;idc3;idc4',\n",
    " 'deviceType': '0^35346^Inverter 1 [1013821839182 PVI 60TL]^3;0^35347^Inverter 2 [1013821839191 PVI 60TL]^3',\n",
    " 'hasRg': '0',\n",
    " 'maxLimit': '360000',\n",
    " 'gauge': '0 ',\n",
    " 'dataIntervalStr': 'Minute'\n",
    "}\n",
    "\n",
    "params16 = {\n",
    " 'siteId': '6073',\n",
    " 'queryNo': '4',\n",
    " 'startIntervalTs': f'{start_date} 04:00:00',\n",
    " 'endIntervalTs': f'{start_date} 04:15:00',\n",
    " 'endDuration': f'{end_date} 00:00:00',\n",
    " 'dataInterval': '900',\n",
    " 'deviceindices': '0^35346^Inverter 1  [1013821839182 PVI 60TL]^3;0^35351^Inverter 6  [1013821824186 PVI 60TL]^3',\n",
    " 'parList': 'vdc;vdc2;vdc3;vdc4;idc;idc2;idc3;idc4',\n",
    " 'deviceType': '0^35346^Inverter 1 [1013821839182 PVI 60TL]^3;0^35351^Inverter 6 [1013821824186 PVI 60TL]^3',\n",
    " 'hasRg': '0',\n",
    " 'maxLimit': '360000',\n",
    " 'gauge': '0 ',\n",
    " 'dataIntervalStr': 'Minute'\n",
    "}"
   ]
  },
  {
   "cell_type": "code",
   "execution_count": 180,
   "metadata": {},
   "outputs": [],
   "source": [
    "response12 = requests.get(url, params=params12, headers=headers)\n",
    "response16 = requests.get(url, params=params16, headers=headers)\n",
    "response_arr = [response12, response16]"
   ]
  },
  {
   "cell_type": "code",
   "execution_count": 207,
   "metadata": {},
   "outputs": [],
   "source": [
    "response = response_arr[0]\n",
    "cat = response.json()['categories']\n",
    "\n",
    "time_labels = cat[0]['category']\n",
    "timestamp = []\n",
    "for label in time_labels:\n",
    "  str = start_date + ' ' + label['label']\n",
    "  timestamp.append(pd.to_datetime(str))"
   ]
  },
  {
   "cell_type": "code",
   "execution_count": 277,
   "metadata": {},
   "outputs": [],
   "source": [
    "inv1_iv_data_arr = response_arr[0].json()['dataset'][0:6]\n",
    "inv2_iv_data_arr = response_arr[0].json()['dataset'][6:]\n",
    "inv6_iv_data_arr = response_arr[1].json()['dataset'][6:]\n",
    "\n",
    "all_inv_data_arr = [inv1_iv_data_arr, inv2_iv_data_arr, inv6_iv_data_arr]"
   ]
  },
  {
   "cell_type": "code",
   "execution_count": null,
   "metadata": {},
   "outputs": [],
   "source": [
    "all_volt_data = []\n",
    "all_curr_data = []\n",
    "all_timestamp = []\n",
    "\n",
    "for i_inv, inv_data_arr in enumerate(all_inv_data_arr):\n",
    "  for i, data_dict in enumerate(inv_data_arr):\n",
    "    if i < 3:\n",
    "      arr = [float(dict['value']) if dict['value'] != '' else 0 for dict in data_dict['data']]\n",
    "      all_volt_data.extend(arr)\n",
    "      all_timestamp.extend(timestamp)\n",
    "    else:\n",
    "      arr = [float(dict['value']) if dict['value'] != '' else 0 for dict in data_dict['data']]\n",
    "      all_curr_data.extend(arr)"
   ]
  },
  {
   "cell_type": "code",
   "execution_count": 342,
   "metadata": {},
   "outputs": [],
   "source": [
    "all_equipment = []\n",
    "for i_inv in range(len(all_inv_data_arr)):\n",
    "  for i, data_dict in enumerate(inv_data_arr[0:3]):\n",
    "    equipment_code = f'inv{i_inv + 1}_str{(i % 3) + 1}'\n",
    "    all_equipment.extend([equipment_code] * len(data_dict['data']))"
   ]
  },
  {
   "cell_type": "code",
   "execution_count": 343,
   "metadata": {},
   "outputs": [],
   "source": [
    "data = {'timestamp': all_timestamp, 'equipment_code': all_equipment, 'current': all_curr_data, 'voltage': all_volt_data}"
   ]
  },
  {
   "cell_type": "code",
   "execution_count": 344,
   "metadata": {},
   "outputs": [],
   "source": [
    "df = pd.DataFrame(data=data)"
   ]
  },
  {
   "cell_type": "code",
   "execution_count": 349,
   "metadata": {},
   "outputs": [
    {
     "data": {
      "text/html": [
       "<div>\n",
       "<style scoped>\n",
       "    .dataframe tbody tr th:only-of-type {\n",
       "        vertical-align: middle;\n",
       "    }\n",
       "\n",
       "    .dataframe tbody tr th {\n",
       "        vertical-align: top;\n",
       "    }\n",
       "\n",
       "    .dataframe thead th {\n",
       "        text-align: right;\n",
       "    }\n",
       "</style>\n",
       "<table border=\"1\" class=\"dataframe\">\n",
       "  <thead>\n",
       "    <tr style=\"text-align: right;\">\n",
       "      <th></th>\n",
       "      <th>timestamp</th>\n",
       "      <th>equipment_code</th>\n",
       "      <th>current</th>\n",
       "      <th>voltage</th>\n",
       "    </tr>\n",
       "  </thead>\n",
       "  <tbody>\n",
       "    <tr>\n",
       "      <th>0</th>\n",
       "      <td>2025-10-10 04:00:00</td>\n",
       "      <td>inv1_str1</td>\n",
       "      <td>0.0</td>\n",
       "      <td>0.0</td>\n",
       "    </tr>\n",
       "    <tr>\n",
       "      <th>1</th>\n",
       "      <td>2025-10-10 04:15:00</td>\n",
       "      <td>inv1_str1</td>\n",
       "      <td>0.0</td>\n",
       "      <td>0.0</td>\n",
       "    </tr>\n",
       "    <tr>\n",
       "      <th>2</th>\n",
       "      <td>2025-10-10 04:30:00</td>\n",
       "      <td>inv1_str1</td>\n",
       "      <td>0.0</td>\n",
       "      <td>0.0</td>\n",
       "    </tr>\n",
       "    <tr>\n",
       "      <th>3</th>\n",
       "      <td>2025-10-10 04:45:00</td>\n",
       "      <td>inv1_str1</td>\n",
       "      <td>0.0</td>\n",
       "      <td>0.0</td>\n",
       "    </tr>\n",
       "    <tr>\n",
       "      <th>4</th>\n",
       "      <td>2025-10-10 05:00:00</td>\n",
       "      <td>inv1_str1</td>\n",
       "      <td>0.0</td>\n",
       "      <td>0.0</td>\n",
       "    </tr>\n",
       "    <tr>\n",
       "      <th>...</th>\n",
       "      <td>...</td>\n",
       "      <td>...</td>\n",
       "      <td>...</td>\n",
       "      <td>...</td>\n",
       "    </tr>\n",
       "    <tr>\n",
       "      <th>75</th>\n",
       "      <td>2025-10-10 22:45:00</td>\n",
       "      <td>inv1_str1</td>\n",
       "      <td>0.0</td>\n",
       "      <td>0.0</td>\n",
       "    </tr>\n",
       "    <tr>\n",
       "      <th>76</th>\n",
       "      <td>2025-10-10 23:00:00</td>\n",
       "      <td>inv1_str1</td>\n",
       "      <td>0.0</td>\n",
       "      <td>0.0</td>\n",
       "    </tr>\n",
       "    <tr>\n",
       "      <th>77</th>\n",
       "      <td>2025-10-10 23:15:00</td>\n",
       "      <td>inv1_str1</td>\n",
       "      <td>0.0</td>\n",
       "      <td>0.0</td>\n",
       "    </tr>\n",
       "    <tr>\n",
       "      <th>78</th>\n",
       "      <td>2025-10-10 23:30:00</td>\n",
       "      <td>inv1_str1</td>\n",
       "      <td>0.0</td>\n",
       "      <td>0.0</td>\n",
       "    </tr>\n",
       "    <tr>\n",
       "      <th>79</th>\n",
       "      <td>2025-10-10 23:45:00</td>\n",
       "      <td>inv1_str1</td>\n",
       "      <td>0.0</td>\n",
       "      <td>0.0</td>\n",
       "    </tr>\n",
       "  </tbody>\n",
       "</table>\n",
       "<p>80 rows × 4 columns</p>\n",
       "</div>"
      ],
      "text/plain": [
       "             timestamp equipment_code  current  voltage\n",
       "0  2025-10-10 04:00:00      inv1_str1      0.0      0.0\n",
       "1  2025-10-10 04:15:00      inv1_str1      0.0      0.0\n",
       "2  2025-10-10 04:30:00      inv1_str1      0.0      0.0\n",
       "3  2025-10-10 04:45:00      inv1_str1      0.0      0.0\n",
       "4  2025-10-10 05:00:00      inv1_str1      0.0      0.0\n",
       "..                 ...            ...      ...      ...\n",
       "75 2025-10-10 22:45:00      inv1_str1      0.0      0.0\n",
       "76 2025-10-10 23:00:00      inv1_str1      0.0      0.0\n",
       "77 2025-10-10 23:15:00      inv1_str1      0.0      0.0\n",
       "78 2025-10-10 23:30:00      inv1_str1      0.0      0.0\n",
       "79 2025-10-10 23:45:00      inv1_str1      0.0      0.0\n",
       "\n",
       "[80 rows x 4 columns]"
      ]
     },
     "execution_count": 349,
     "metadata": {},
     "output_type": "execute_result"
    }
   ],
   "source": [
    "df[df['equipment_code'] == 'inv1_str1']"
   ]
  },
  {
   "cell_type": "code",
   "execution_count": null,
   "metadata": {},
   "outputs": [],
   "source": []
  }
 ],
 "metadata": {
  "kernelspec": {
   "display_name": "base",
   "language": "python",
   "name": "python3"
  },
  "language_info": {
   "codemirror_mode": {
    "name": "ipython",
    "version": 3
   },
   "file_extension": ".py",
   "mimetype": "text/x-python",
   "name": "python",
   "nbconvert_exporter": "python",
   "pygments_lexer": "ipython3",
   "version": "3.13.5"
  }
 },
 "nbformat": 4,
 "nbformat_minor": 2
}
