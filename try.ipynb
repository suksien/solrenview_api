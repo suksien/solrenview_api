{
 "cells": [
  {
   "cell_type": "code",
   "execution_count": 7,
   "metadata": {},
   "outputs": [],
   "source": [
    "import requests"
   ]
  },
  {
   "cell_type": "code",
   "execution_count": null,
   "metadata": {},
   "outputs": [],
   "source": [
    "'''\n",
    "1. Trigger the event by clicking \"Export Data\"\n",
    "2. Developer tools -> Network -> Fetch/XHR\n",
    "'''\n",
    "request_URL = 'https://www.solrenview.com/srvp/FSC/SRV/getAnalyticsInfo.php?siteId=6073&queryNo=4&startIntervalTs=2025-10-22%2004:00:00&endIntervalTs=2025-10-22%2005:00:00&endDuration=2025-10-23%2000:00:00&dataInterval=3600&deviceindices=0^35346^Inverter%201%20%20[1013821839182%20PVI%2060TL]^3;0^35347^Inverter%202%20%20[1013821839191%20PVI%2060TL]^3&parList=ecount&deviceType=0^35346^Inverter%201%20[1013821839182%20PVI%2060TL]^3;0^35347^Inverter%202%20[1013821839191%20PVI%2060TL]^3&hasRg=0&maxLimit=360000&gauge=0+&dataIntervalStr=Minute'"
   ]
  },
  {
   "cell_type": "code",
   "execution_count": 3,
   "metadata": {},
   "outputs": [],
   "source": [
    "url = 'https://www.solrenview.com/srvp/FSC/SRV/getAnalyticsInfo.php'"
   ]
  },
  {
   "cell_type": "code",
   "execution_count": 4,
   "metadata": {},
   "outputs": [],
   "source": [
    "params = {\n",
    " 'siteId': '6073',\n",
    " 'queryNo': '4',\n",
    " 'startIntervalTs': '2025-10-22 04:00:00',\n",
    " 'endIntervalTs': '2025-10-22 04:05:00',\n",
    " 'endDuration': '2025-10-23 00:00:00',\n",
    " 'dataInterval': '300',\n",
    " 'deviceindices': '0^35346^Inverter 1  [1013821839182 PVI 60TL]^3;0^35347^Inverter 2  [1013821839191 PVI 60TL]^3',\n",
    " 'parList': 'vdc;vdc2;vdc3;vdc4;idc;idc2;idc3;idc4',\n",
    " 'deviceType': '0^35346^Inverter 1 [1013821839182 PVI 60TL]^3;0^35347^Inverter 2 [1013821839191 PVI 60TL]^3',\n",
    " 'hasRg': '0',\n",
    " 'maxLimit': '360000',\n",
    " 'gauge': '0 ',\n",
    " 'dataIntervalStr': 'Minute'\n",
    "}"
   ]
  },
  {
   "cell_type": "code",
   "execution_count": null,
   "metadata": {},
   "outputs": [],
   "source": [
    "'''\n",
    "Developer tools -> Network -> Fetch/XHR -> Headers -> Request Headers\n",
    "'''\n",
    "headers = {\n",
    " 'Cookie': 'siteId=6073; PHPSESSID=0ooqna8h758bs6c4jl9gl6reu7; _ga=GA1.2.792316693.1761186174; _gid=GA1.2.2038752395.1761186174; _gat=1; _ga_L4S8LG26JM=GS2.2.s1761186174$o1$g1$t1761186879$j60$l0$h0',\n",
    " 'Referer': 'https://www.solrenview.com/srvp/FSC/SRV/analyticsT.php?siteId=6073&CurrentTab=3',\n",
    " 'User-Agent': 'Mozilla/5.0 (Linux; Android 6.0; Nexus 5 Build/MRA58N) AppleWebKit/537.36 (KHTML, like Gecko) Chrome/141.0.0.0 Mobile Safari/537.36'\n",
    "}"
   ]
  },
  {
   "cell_type": "code",
   "execution_count": 8,
   "metadata": {},
   "outputs": [],
   "source": [
    "response = requests.get(url, params=params, headers=headers)"
   ]
  },
  {
   "cell_type": "code",
   "execution_count": 9,
   "metadata": {},
   "outputs": [
    {
     "data": {
      "text/plain": [
       "True"
      ]
     },
     "execution_count": 9,
     "metadata": {},
     "output_type": "execute_result"
    }
   ],
   "source": [
    "response.ok"
   ]
  },
  {
   "cell_type": "code",
   "execution_count": null,
   "metadata": {},
   "outputs": [],
   "source": []
  }
 ],
 "metadata": {
  "kernelspec": {
   "display_name": "base",
   "language": "python",
   "name": "python3"
  },
  "language_info": {
   "codemirror_mode": {
    "name": "ipython",
    "version": 3
   },
   "file_extension": ".py",
   "mimetype": "text/x-python",
   "name": "python",
   "nbconvert_exporter": "python",
   "pygments_lexer": "ipython3",
   "version": "3.13.5"
  }
 },
 "nbformat": 4,
 "nbformat_minor": 2
}
