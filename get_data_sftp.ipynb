{
 "cells": [
  {
   "cell_type": "code",
   "execution_count": 1,
   "metadata": {},
   "outputs": [],
   "source": [
    "import paramiko"
   ]
  },
  {
   "cell_type": "code",
   "execution_count": null,
   "metadata": {},
   "outputs": [],
   "source": [
    "# sftp connection params\n",
    "hostname = 'sftp.firstsolar.com'\n",
    "port = 22\n",
    "username = 'utoledo'\n",
    "password = 'fD3GeH9j:IN^'\n"
   ]
  },
  {
   "cell_type": "code",
   "execution_count": null,
   "metadata": {},
   "outputs": [
    {
     "ename": "IncompatiblePeer",
     "evalue": "Incompatible ssh peer (no acceptable host key)",
     "output_type": "error",
     "traceback": [
      "\u001b[0;31m---------------------------------------------------------------------------\u001b[0m",
      "\u001b[0;31mIncompatiblePeer\u001b[0m                          Traceback (most recent call last)",
      "Cell \u001b[0;32mIn[5], line 4\u001b[0m\n\u001b[1;32m      2\u001b[0m client \u001b[38;5;241m=\u001b[39m paramiko\u001b[38;5;241m.\u001b[39mSSHClient()\n\u001b[1;32m      3\u001b[0m client\u001b[38;5;241m.\u001b[39mset_missing_host_key_policy(paramiko\u001b[38;5;241m.\u001b[39mAutoAddPolicy())\n\u001b[0;32m----> 4\u001b[0m client\u001b[38;5;241m.\u001b[39mconnect(hostname, port, username, password)\n",
      "File \u001b[0;32m/opt/anaconda3/lib/python3.13/site-packages/paramiko/client.py:449\u001b[0m, in \u001b[0;36mSSHClient.connect\u001b[0;34m(self, hostname, port, username, password, pkey, key_filename, timeout, allow_agent, look_for_keys, compress, sock, gss_auth, gss_kex, gss_deleg_creds, gss_host, banner_timeout, auth_timeout, channel_timeout, gss_trust_dns, passphrase, disabled_algorithms, transport_factory, auth_strategy)\u001b[0m\n\u001b[1;32m    446\u001b[0m     other_types \u001b[38;5;241m=\u001b[39m [x \u001b[38;5;28;01mfor\u001b[39;00m x \u001b[38;5;129;01min\u001b[39;00m sec_opts\u001b[38;5;241m.\u001b[39mkey_types \u001b[38;5;28;01mif\u001b[39;00m x \u001b[38;5;241m!=\u001b[39m keytype]\n\u001b[1;32m    447\u001b[0m     sec_opts\u001b[38;5;241m.\u001b[39mkey_types \u001b[38;5;241m=\u001b[39m [keytype] \u001b[38;5;241m+\u001b[39m other_types\n\u001b[0;32m--> 449\u001b[0m t\u001b[38;5;241m.\u001b[39mstart_client(timeout\u001b[38;5;241m=\u001b[39mtimeout)\n\u001b[1;32m    451\u001b[0m \u001b[38;5;66;03m# If GSS-API Key Exchange is performed we are not required to check the\u001b[39;00m\n\u001b[1;32m    452\u001b[0m \u001b[38;5;66;03m# host key, because the host is authenticated via GSS-API / SSPI as\u001b[39;00m\n\u001b[1;32m    453\u001b[0m \u001b[38;5;66;03m# well as our client.\u001b[39;00m\n\u001b[1;32m    454\u001b[0m \u001b[38;5;28;01mif\u001b[39;00m \u001b[38;5;129;01mnot\u001b[39;00m \u001b[38;5;28mself\u001b[39m\u001b[38;5;241m.\u001b[39m_transport\u001b[38;5;241m.\u001b[39mgss_kex_used:\n",
      "File \u001b[0;32m/opt/anaconda3/lib/python3.13/site-packages/paramiko/transport.py:768\u001b[0m, in \u001b[0;36mTransport.start_client\u001b[0;34m(self, event, timeout)\u001b[0m\n\u001b[1;32m    766\u001b[0m     e \u001b[38;5;241m=\u001b[39m \u001b[38;5;28mself\u001b[39m\u001b[38;5;241m.\u001b[39mget_exception()\n\u001b[1;32m    767\u001b[0m     \u001b[38;5;28;01mif\u001b[39;00m e \u001b[38;5;129;01mis\u001b[39;00m \u001b[38;5;129;01mnot\u001b[39;00m \u001b[38;5;28;01mNone\u001b[39;00m:\n\u001b[0;32m--> 768\u001b[0m         \u001b[38;5;28;01mraise\u001b[39;00m e\n\u001b[1;32m    769\u001b[0m     \u001b[38;5;28;01mraise\u001b[39;00m SSHException(\u001b[38;5;124m\"\u001b[39m\u001b[38;5;124mNegotiation failed.\u001b[39m\u001b[38;5;124m\"\u001b[39m)\n\u001b[1;32m    770\u001b[0m \u001b[38;5;28;01mif\u001b[39;00m event\u001b[38;5;241m.\u001b[39mis_set() \u001b[38;5;129;01mor\u001b[39;00m (\n\u001b[1;32m    771\u001b[0m     timeout \u001b[38;5;129;01mis\u001b[39;00m \u001b[38;5;129;01mnot\u001b[39;00m \u001b[38;5;28;01mNone\u001b[39;00m \u001b[38;5;129;01mand\u001b[39;00m time\u001b[38;5;241m.\u001b[39mtime() \u001b[38;5;241m>\u001b[39m\u001b[38;5;241m=\u001b[39m max_time\n\u001b[1;32m    772\u001b[0m ):\n",
      "File \u001b[0;32m/opt/anaconda3/lib/python3.13/site-packages/paramiko/transport.py:2230\u001b[0m, in \u001b[0;36mTransport.run\u001b[0;34m(self)\u001b[0m\n\u001b[1;32m   2228\u001b[0m         \u001b[38;5;28mself\u001b[39m\u001b[38;5;241m.\u001b[39m_send_message(error_msg)\n\u001b[1;32m   2229\u001b[0m     \u001b[38;5;28;01melse\u001b[39;00m:\n\u001b[0;32m-> 2230\u001b[0m         \u001b[38;5;28mself\u001b[39m\u001b[38;5;241m.\u001b[39m_handler_table[ptype](m)\n\u001b[1;32m   2231\u001b[0m \u001b[38;5;28;01melif\u001b[39;00m ptype \u001b[38;5;129;01min\u001b[39;00m \u001b[38;5;28mself\u001b[39m\u001b[38;5;241m.\u001b[39m_channel_handler_table:\n\u001b[1;32m   2232\u001b[0m     chanid \u001b[38;5;241m=\u001b[39m m\u001b[38;5;241m.\u001b[39mget_int()\n",
      "File \u001b[0;32m/opt/anaconda3/lib/python3.13/site-packages/paramiko/transport.py:2350\u001b[0m, in \u001b[0;36mTransport._negotiate_keys\u001b[0;34m(self, m)\u001b[0m\n\u001b[1;32m   2347\u001b[0m \u001b[38;5;28;01mif\u001b[39;00m \u001b[38;5;28mself\u001b[39m\u001b[38;5;241m.\u001b[39mlocal_kex_init \u001b[38;5;129;01mis\u001b[39;00m \u001b[38;5;28;01mNone\u001b[39;00m:\n\u001b[1;32m   2348\u001b[0m     \u001b[38;5;66;03m# remote side wants to renegotiate\u001b[39;00m\n\u001b[1;32m   2349\u001b[0m     \u001b[38;5;28mself\u001b[39m\u001b[38;5;241m.\u001b[39m_send_kex_init()\n\u001b[0;32m-> 2350\u001b[0m \u001b[38;5;28mself\u001b[39m\u001b[38;5;241m.\u001b[39m_parse_kex_init(m)\n\u001b[1;32m   2351\u001b[0m \u001b[38;5;28mself\u001b[39m\u001b[38;5;241m.\u001b[39mkex_engine\u001b[38;5;241m.\u001b[39mstart_kex()\n",
      "File \u001b[0;32m/opt/anaconda3/lib/python3.13/site-packages/paramiko/transport.py:2602\u001b[0m, in \u001b[0;36mTransport._parse_kex_init\u001b[0;34m(self, m)\u001b[0m\n\u001b[1;32m   2598\u001b[0m     agreed_keys \u001b[38;5;241m=\u001b[39m \u001b[38;5;28mlist\u001b[39m(\n\u001b[1;32m   2599\u001b[0m         \u001b[38;5;28mfilter\u001b[39m(server_key_algo_list\u001b[38;5;241m.\u001b[39m\u001b[38;5;21m__contains__\u001b[39m, \u001b[38;5;28mself\u001b[39m\u001b[38;5;241m.\u001b[39mpreferred_keys)\n\u001b[1;32m   2600\u001b[0m     )\n\u001b[1;32m   2601\u001b[0m \u001b[38;5;28;01mif\u001b[39;00m \u001b[38;5;28mlen\u001b[39m(agreed_keys) \u001b[38;5;241m==\u001b[39m \u001b[38;5;241m0\u001b[39m:\n\u001b[0;32m-> 2602\u001b[0m     \u001b[38;5;28;01mraise\u001b[39;00m IncompatiblePeer(\n\u001b[1;32m   2603\u001b[0m         \u001b[38;5;124m\"\u001b[39m\u001b[38;5;124mIncompatible ssh peer (no acceptable host key)\u001b[39m\u001b[38;5;124m\"\u001b[39m\n\u001b[1;32m   2604\u001b[0m     )  \u001b[38;5;66;03m# noqa\u001b[39;00m\n\u001b[1;32m   2605\u001b[0m \u001b[38;5;28mself\u001b[39m\u001b[38;5;241m.\u001b[39mhost_key_type \u001b[38;5;241m=\u001b[39m agreed_keys[\u001b[38;5;241m0\u001b[39m]\n\u001b[1;32m   2606\u001b[0m \u001b[38;5;28;01mif\u001b[39;00m \u001b[38;5;28mself\u001b[39m\u001b[38;5;241m.\u001b[39mserver_mode \u001b[38;5;129;01mand\u001b[39;00m (\u001b[38;5;28mself\u001b[39m\u001b[38;5;241m.\u001b[39mget_server_key() \u001b[38;5;129;01mis\u001b[39;00m \u001b[38;5;28;01mNone\u001b[39;00m):\n",
      "\u001b[0;31mIncompatiblePeer\u001b[0m: Incompatible ssh peer (no acceptable host key)"
     ]
    }
   ],
   "source": [
    "# create SSH client\n",
    "# need to connect to FS VPN first\n",
    "client = paramiko.SSHClient()\n",
    "client.set_missing_host_key_policy(paramiko.AutoAddPolicy())\n",
    "client.connect(hostname, port, username, password)"
   ]
  },
  {
   "cell_type": "code",
   "execution_count": null,
   "metadata": {},
   "outputs": [],
   "source": [
    "ssh_client.connect(hostname, port, username, password)"
   ]
  }
 ],
 "metadata": {
  "kernelspec": {
   "display_name": "base",
   "language": "python",
   "name": "python3"
  },
  "language_info": {
   "codemirror_mode": {
    "name": "ipython",
    "version": 3
   },
   "file_extension": ".py",
   "mimetype": "text/x-python",
   "name": "python",
   "nbconvert_exporter": "python",
   "pygments_lexer": "ipython3",
   "version": "3.13.5"
  }
 },
 "nbformat": 4,
 "nbformat_minor": 2
}
